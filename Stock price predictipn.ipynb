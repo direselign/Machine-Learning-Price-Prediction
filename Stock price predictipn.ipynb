{
 "cells": [
  {
   "cell_type": "markdown",
   "metadata": {},
   "source": [
    "# Stock Price Forecasting\n",
    "## Linear Regresion\n",
    "- <a href=\"https://pdfs.semanticscholar.org/0096/f7f6b0724c5839163b0e851b12b32f8ec908.pdf\">Stock Market Price Prediction Using Linear and Polynomial Regression Models</a></br>\n",
    "- <a href=\"Predicting share price by using Multiple Linear Regression\">http://www.divaportal.org/smash/get/diva2:692167/FULLTEXT01.pdf</a></br>\n",
    "- <a href=\" \"> </a></br> \n",
    "## RF\n",
    "- <a href=\"https://pdfs.semanticscholar.org/2fe9/cd2e7e9a4c859d2ffbf39e1a2c54cb874f3c.pdf\">Forecasting the direction of stock market index movement using three data mining techniques: the case of Tehran Stock Exchange</a></br>\n",
    "- <a href=\"https://ieeexplore.ieee.org/stamp/stamp.jsp?arnumber=7160456\">Predicting Stock Market Trends Using Random Forests: A Sample of the Zagreb Stock Exchange </a></br>\n",
    "- <a href=\" \"> </a></br>\n",
    "## SVM\n",
    "- <a href=\"https://ieeexplore.ieee.org/document/7192906/\">Cuckoo optimized SVM for stock market prediction</a></br>\n",
    "- <a href=\"https://ieeexplore.ieee.org/document/7772259/\">Machine learning techniques for short term stock movements classification for Moroccan stock exchange</a></br>\n",
    "- <a href=\"https://ieeexplore.ieee.org/document/7820478/\">Ensemble Model for Stock Price Movement Trend Prediction on Different Investing Periods</a></br>\n",
    "- <a href=\"https://ieeexplore.ieee.org/document/7916583/\">Prediction of Stock Market performance by using machine learning techniques</a></br>\n",
    "- <a href=\"https://ieeexplore.ieee.org/document/8212859/\">Support vector machines through financial time series forecasting</a></br>\n",
    "- <a href=\"https://ieeexplore.ieee.org/document/8215745/\">A New Method for Stock Price Prediction Based on MRFs and SSVM </a></br>\n",
    "- <a href=\"https://ieeexplore.ieee.org/document/8346382/\">Integrating StockTwits with sentiment analysis for better prediction of stock price movement</a></br>\n",
    "- <a href=\"https://ieeexplore.ieee.org/stamp/stamp.jsp?tp=&arnumber=8310891\">An Adaptive SVR for High-Frequency \n",
    "\n",
    "## *ANN*\n",
    "- <a href=\"http://citeseerx.ist.psu.edu/viewdoc/download;jsessionid=F153FC11DDF77B311A247E53B162CD9C?doi=10.1.1.678.6606&rep=rep1&type=pdf\">Stock Prediction Using Artificial Neural Networks</a><br>\n",
    "- <a href=\"http://ijcsit.com/docs/Volume%205/vol5issue01/ijcsit20140501195.pdf\">Stock Market Prediction Using Artificial Neural\n",
    "Networks</a><br/>\n",
    "- <a href=\"http://www.dbjournal.ro/archive/20/20_2.pdf\">Stock Market Prediction using Artificial Neural Networks. </a></br>\n",
    "- <a href = \"https://www.ijirset.com/upload/2014/june/76_Stock.pdf\">Stock Price Prediction Using Artificial Neural Network</a></br>\n",
    "- <a href=\"https://ieeexplore.ieee.org/document/7859878/\"> Stock price trend prediction using Artificial Neural Network techniques: Case study: Thailand stock exchange </a></br>\n",
    "- <a href=\"https://ieeexplore.ieee.org/document/8307323/\">Stock Prediction Using Functional Link Artificial Neural Network (FLANN) </a></br>\n",
    "- <a href=\"https://ieeexplore.ieee.org/document/8074710/\">Indonesia infrastructure and consumer stock portfolio prediction using artificial neural network backpropagation </a></br>\n",
    "- <a href=\"https://ieeexplore.ieee.org/document/8074673/\">Stock price forecasting using artificial neural network: (Case Study: PT. Telkom Indonesia)</a></br>\n",
    "## Deep Learning\n",
    "- <a href=\"https://ieeexplore.ieee.org/document/8256643/\">Short term stock price prediction using deep learning</a></br>\n",
    "- <a href=\"https://ieeexplore.ieee.org/document/8285188/\">A deep learning based stock trading model with 2-D CNN trend detection</a></br>\n",
    "- <a href=\"https://ieeexplore.ieee.org/document/8010701/\">Forecasting Stock Prices from the Limit Order Book Using Convolutional Neural Networks</a></br>\n",
    "- <a href=\"https://ieeexplore.ieee.org/document/8377920/\">A New Combined CNN-RNN Model for Sector Stock Price Analysis</a></br>\n",
    "- <a href=\"https://ieeexplore.ieee.org/document/7130397/\">An application of deep learning for trade signal prediction in financial markets</a></br>\n",
    "- <a href=\"https://ieeexplore.ieee.org/document/7916583/\">Prediction of Stock Market performance by using machine learning techniques</a></br>\n",
    "- <a href=\"https://ieeexplore.ieee.org/document/8355458/\">Evaluation of bidirectional LSTM for short-and long-term stock market prediction</a></br>\n",
    "- <a href=\"https://ieeexplore.ieee.org/document/8126078/\">Stock price prediction using LSTM, RNN and CNN-sliding window model</a></br>\n",
    "- <a href=\"https://ieeexplore.ieee.org/document/7996306/\">Sentiment-aware stock market prediction: A deep learning method</a></br>\n",
    "- <a href=\"https://ieeexplore.ieee.org/document/7978707/\">Time series prediction of stock price using deep belief networks with intrinsic plasticity </a></br>"
   ]
  },
  {
   "cell_type": "markdown",
   "metadata": {},
   "source": []
  },
  {
   "cell_type": "markdown",
   "metadata": {},
   "source": [
    "- &# Test"
   ]
  },
  {
   "cell_type": "code",
   "execution_count": null,
   "metadata": {},
   "outputs": [],
   "source": []
  }
 ],
 "metadata": {
  "kernelspec": {
   "display_name": "Python 3",
   "language": "python",
   "name": "python3"
  },
  "language_info": {
   "codemirror_mode": {
    "name": "ipython",
    "version": 3
   },
   "file_extension": ".py",
   "mimetype": "text/x-python",
   "name": "python",
   "nbconvert_exporter": "python",
   "pygments_lexer": "ipython3",
   "version": "3.6.4"
  }
 },
 "nbformat": 4,
 "nbformat_minor": 2
}
